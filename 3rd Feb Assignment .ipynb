{
 "cells": [
  {
   "cell_type": "markdown",
   "id": "3b0798a2-28e4-4501-95c2-09fdf1ea0d91",
   "metadata": {},
   "source": [
    "# Q1. Which keyword is used to create a function? Create a function to return a list of odd numbers in the range of 1 to 25."
   ]
  },
  {
   "cell_type": "markdown",
   "id": "0fd9d58a-825a-4524-bea5-2d1719b01589",
   "metadata": {},
   "source": [
    "A function is created by using the keyword 'def' in a python program."
   ]
  },
  {
   "cell_type": "markdown",
   "id": "b45b8872-4cbe-4210-a038-2eb34e99ba5f",
   "metadata": {},
   "source": [
    "def odd_numbers():\n",
    "   \n",
    "   lst=[]\n",
    "   \n",
    "   for i in range(1,25):\n",
    "        \n",
    "        if i%2==1:\n",
    "            lst.append(i)\n",
    "  \n",
    "  return lst\n",
    "  \n",
    "print(\"The odd numbers are:\",odd_numbers())"
   ]
  },
  {
   "cell_type": "markdown",
   "id": "6dc11bd0-90ad-4577-9de2-26f119dfa011",
   "metadata": {},
   "source": [
    "## OUTPUT\n",
    "\n",
    "The odd numbers are: [1, 3, 5, 7, 9, 11, 13, 15, 17, 19, 21, 23]"
   ]
  },
  {
   "cell_type": "markdown",
   "id": "ce902f1f-fa82-402d-8ac8-9cf832337d7c",
   "metadata": {},
   "source": [
    "# Q2. Why *args and **kwargs is used in some functions? Create a function each for *args and **kwargs to demonstrate their use."
   ]
  },
  {
   "cell_type": "markdown",
   "id": "8ba6b585-4b9f-40da-ad86-9a8ce9a65ee9",
   "metadata": {},
   "source": [
    "\n",
    "The '*args' and '**kwargs' keywords are used in some functions because the * keyword is reffered to as static which gives the user freedom to take infinite number of variables during Function calling. The ** (double static) gives the user freedom of take infinite number of key and values as arguements  "
   ]
  },
  {
   "cell_type": "markdown",
   "id": "7a63c122-12a1-4d98-94d1-2c52879a111a",
   "metadata": {},
   "source": [
    "def type_check(*args):\n",
    "   \n",
    "   \n",
    "    for i in list1:\n",
    "        if type(i)==int or type(i)==float:\n",
    "            x.append(i)\n",
    "        elif type(i)==str:\n",
    "            a.append(i)\n",
    "        else:\n",
    "            n.append(i)\n",
    "     \n",
    "    print(\"The List with integers only :\",x)\n",
    "    print(\"The List with Strings only :\",a)\n",
    "    print(\"The List with other values is :\",n)\n",
    "    \n",
    "list1=[1,2,3,4,'Angs','Human','OMG',True]\n",
    "n,a,x=[],[],[]\n",
    "\n",
    "    \n",
    "type_check(list1,a,x,)"
   ]
  },
  {
   "cell_type": "markdown",
   "id": "e245b8e2-7f3b-43a0-aae7-29cf00ab7cae",
   "metadata": {},
   "source": [
    "## OUTPUT\n",
    "\n",
    "The List with integers only : [1, 2, 3, 4]\n",
    "\n",
    "The List with Strings only : ['Angs', 'Human', 'OMG']\n",
    "\n",
    "The List with other values is : [True]"
   ]
  },
  {
   "cell_type": "markdown",
   "id": "e82db608-3ae7-4026-a92d-d28ea11ed38f",
   "metadata": {},
   "source": [
    "def check(**kwargs):\n",
    "    \n",
    "    lst1,lst2=[],[]\n",
    "    \n",
    "    for i in kwargs.keys():\n",
    "        if type(kwargs[i])==int or type(kwargs[i])==float:\n",
    "            lst1.append(kwargs[i])\n",
    "        elif type(i)==str:\n",
    "            lst2.append(kwargs[i])\n",
    "    return lst1,lst2\n",
    "\n",
    "check(a=5467,b='angs',c='Human')\n",
    "        "
   ]
  },
  {
   "cell_type": "markdown",
   "id": "e0360e4f-e924-4a8e-ac59-0abde2347e78",
   "metadata": {},
   "source": [
    "## OUTPUT\n",
    "\n",
    "([5467], ['angs', 'Human'])"
   ]
  },
  {
   "cell_type": "markdown",
   "id": "9b6b9227-5ca9-47d6-889f-9d66e8d0a3a1",
   "metadata": {},
   "source": [
    "# Q3. What is an iterator in python? Name the method used to initialise the iterator object and the method used for iteration. Use these methods to print the first five elements of the given list [2, 4, 6, 8, 10, 12, 14, 16, 18, 20]."
   ]
  },
  {
   "cell_type": "markdown",
   "id": "2317579b-00a8-4c88-805a-2082c5a85083",
   "metadata": {},
   "source": [
    "\n",
    "\n"
   ]
  },
  {
   "cell_type": "markdown",
   "id": "c52e37e0-c5bf-4478-b9fc-eca6d37ae89b",
   "metadata": {},
   "source": [
    "In Python, an iterator is an object that can be iterated (looped) upon, meaning you can traverse through all the values. It provides a way to access the elements of a collection (like a list) one by one without the need to know the underlying structure of the collection.\n",
    "\n",
    "To create an iterator object in Python, you can use the iter() method which takes an iterable (e.g., list, tuple, dictionary, etc.) as its argument and returns an iterator object. Once you have an iterator object, you can iterate over its elements using the next() method until there are no more elements left to iterate.\n",
    "\n",
    "Here's how you can print the first five elements of the given list using an iterator:"
   ]
  },
  {
   "cell_type": "markdown",
   "id": "603b4651-5078-4e19-b48d-4e5c799b088a",
   "metadata": {},
   "source": [
    "my_list = [2, 4, 6, 8, 10, 12, 14, 16, 18, 20]\n",
    "\n",
    "my_iterator = iter(my_list) \n",
    "\n",
    "\n",
    "for i in range(5):\n",
    "    print(next(my_iterator)) \n"
   ]
  },
  {
   "cell_type": "markdown",
   "id": "a3b0151a-bcda-453d-be50-2006b5c5040f",
   "metadata": {},
   "source": [
    "## OUTPUT\n",
    "\n",
    "2\n",
    "4\n",
    "6\n",
    "8\n",
    "10"
   ]
  },
  {
   "cell_type": "markdown",
   "id": "1fa3121b-e2d2-4466-a5ba-d2a55ed99698",
   "metadata": {},
   "source": [
    "In the above code, we first create a list my_list containing ten integers. Then we initialize an iterator object my_iterator using the iter() method and pass my_list as its argument.\n",
    "\n",
    "Next, we use a for loop to iterate over the first five elements of my_list using the next() method. Inside the loop, we call the next() method on my_iterator to get the next element of the list and print it using the print() function.\n",
    "\n",
    "Note that the next() method raises a StopIteration exception when there are no more elements left to iterate, so we need to use a loop to handle the exception and terminate the iteration after the first five elements are printed."
   ]
  },
  {
   "cell_type": "markdown",
   "id": "518d2804-f8d8-45d8-9f11-ac12ae7a9f65",
   "metadata": {},
   "source": [
    "\n",
    "\n",
    "\n",
    "\n"
   ]
  },
  {
   "cell_type": "markdown",
   "id": "683e3d8c-74d4-434f-9485-269bd9710a7a",
   "metadata": {},
   "source": [
    "# Q4. What is a generator function in python? Why yield keyword is used? Give an example of a generator function."
   ]
  },
  {
   "cell_type": "markdown",
   "id": "66b0899a-4c4a-4dae-a932-a30d5feda4cf",
   "metadata": {},
   "source": [
    "In Python, a generator function is a special kind of function that returns a generator object, which can be iterated over to produce a sequence of values. Unlike normal functions that return a value and then terminate, a generator function can pause execution and return control to the caller, and then resume where it left off at a later time, potentially many times.\n",
    "\n",
    "The yield keyword is used in a generator function to indicate where to pause execution and return a value to the caller. When the generator function is called, it does not actually execute any code, but instead returns a generator object. The first time the next() method is called on the generator object, the generator function starts executing, and when it encounters a yield statement, it pauses and returns the yielded value to the caller. The next time next() is called on the generator object, execution resumes where it left off, and the generator function continues to execute until it reaches another yield statement or the end of the function."
   ]
  },
  {
   "cell_type": "markdown",
   "id": "54cbe7dc-be42-4f67-85ea-ba911a84d4cb",
   "metadata": {},
   "source": [
    "def number_generator(n):\n",
    "\n",
    "    i = 0\n",
    "    while i < n:\n",
    "        yield i\n",
    "        i += 1\n",
    "\n"
   ]
  },
  {
   "cell_type": "markdown",
   "id": "58294994-ff3c-48ea-b6ee-a54459d21257",
   "metadata": {},
   "source": [
    "In the above code, we define a function number_generator that takes a single argument n and uses a while loop to generate a sequence of numbers from 1 to n+1. The yield statement is used to pause execution and return each number to the caller one at a time.\n",
    "\n",
    "To use the generator function, we create a generator object by calling the function with the desired argument, and then we can iterate over the generator object to produce the sequence of numbers:\n",
    "\n"
   ]
  },
  {
   "cell_type": "markdown",
   "id": "f46cf22f-71ea-4e01-b8b4-5c3bfdb35035",
   "metadata": {},
   "source": [
    "n=4\n",
    "\n",
    "a=number_generator(n)\n",
    "\n",
    "for i in range(1,n+1) :\n",
    "\n",
    "    print(i,end=' ')"
   ]
  },
  {
   "cell_type": "markdown",
   "id": "d5830b34-469a-4919-9fc5-e6d13af335c1",
   "metadata": {},
   "source": [
    "## OUTPUT\n",
    "\n",
    "1 2 3 4 "
   ]
  },
  {
   "cell_type": "markdown",
   "id": "18a1de84-b8b7-4824-8992-ca56e28a8952",
   "metadata": {},
   "source": [
    "# Q5. Create a generator function for prime numbers less than 1000. Use the next() method to print the first 20 prime numbers."
   ]
  },
  {
   "cell_type": "code",
   "execution_count": 46,
   "id": "3daf6515-71b2-44bd-ae33-88d2a5e5ff7f",
   "metadata": {},
   "outputs": [],
   "source": [
    "def primes():\n",
    "    yield 2  # 2 is the first prime number\n",
    "    primes_list = [2]\n",
    "    n = 3\n",
    "    while n < 1000:\n",
    "        is_prime = True\n",
    "        for p in primes_list:\n",
    "            if n % p == 0:\n",
    "                is_prime = False\n",
    "                break\n",
    "            elif p**2 > n:\n",
    "                break\n",
    "        if is_prime:\n",
    "            yield n\n",
    "            primes_list.append(n)\n",
    "        n += 2\n"
   ]
  },
  {
   "cell_type": "code",
   "execution_count": 47,
   "id": "fb710a2b-c650-4b64-b719-938881361bd9",
   "metadata": {},
   "outputs": [
    {
     "name": "stdout",
     "output_type": "stream",
     "text": [
      "2\n",
      "3\n",
      "5\n",
      "7\n",
      "11\n",
      "13\n",
      "17\n",
      "19\n",
      "23\n",
      "29\n",
      "31\n",
      "37\n",
      "41\n",
      "43\n",
      "47\n",
      "53\n",
      "59\n",
      "61\n",
      "67\n",
      "71\n"
     ]
    }
   ],
   "source": [
    "my_generator = primes()\n",
    "for i in range(20):\n",
    "    print(next(my_generator),end=)\n"
   ]
  },
  {
   "cell_type": "code",
   "execution_count": null,
   "id": "901f16c1-1c68-47e1-9256-4f797ebbbe68",
   "metadata": {},
   "outputs": [],
   "source": []
  }
 ],
 "metadata": {
  "kernelspec": {
   "display_name": "Python 3 (ipykernel)",
   "language": "python",
   "name": "python3"
  },
  "language_info": {
   "codemirror_mode": {
    "name": "ipython",
    "version": 3
   },
   "file_extension": ".py",
   "mimetype": "text/x-python",
   "name": "python",
   "nbconvert_exporter": "python",
   "pygments_lexer": "ipython3",
   "version": "3.10.8"
  }
 },
 "nbformat": 4,
 "nbformat_minor": 5
}
