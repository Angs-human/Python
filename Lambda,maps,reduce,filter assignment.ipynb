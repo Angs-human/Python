{
 "cells": [
  {
   "cell_type": "markdown",
   "id": "e7058a25-d628-4b2b-bafe-9528d9d7af13",
   "metadata": {},
   "source": [
    "# Q1. Create a python program to sort the given list of tuples based on integer value using a lambda function."
   ]
  },
  {
   "cell_type": "markdown",
   "id": "e8efbcbc-d545-4244-8da6-24072266c3c1",
   "metadata": {},
   "source": [
    "# [('Sachin Tendulkar', 34357), ('Ricky Ponting', 27483), ('Jack Kallis', 25534), ('Virat Kohli', 24936)]\n",
    "\n",
    "\n"
   ]
  },
  {
   "cell_type": "markdown",
   "id": "11ea6b0e-2965-4968-a0cf-6da8f8e5f3bd",
   "metadata": {},
   "source": [
    "l=[('Sachin Tendulkar', 34357), ('Ricky Ponting', 27483), ('Jack Kallis', 25534), ('Virat Kohli', 24936)] "
   ]
  },
  {
   "cell_type": "markdown",
   "id": "99c586d6-7da3-48b5-b9e8-7142d79d79a7",
   "metadata": {},
   "source": [
    "\n",
    "sorted_players = sorted(l, key=lambda x: x[1])\n",
    "\n",
    "print(sorted_players)\n"
   ]
  },
  {
   "cell_type": "markdown",
   "id": "1c4421fa-b582-4770-ab7e-3a82d0d845da",
   "metadata": {},
   "source": [
    "## OUTPUT\n",
    "\n",
    "[('Virat Kohli', 24936), ('Jack Kallis', 25534), ('Ricky Ponting', 27483), ('Sachin Tendulkar', 34357)]"
   ]
  },
  {
   "cell_type": "markdown",
   "id": "d8b205ca-18ed-4209-a27a-9c1f01aa939f",
   "metadata": {},
   "source": [
    "# Q2. Write a Python Program to find the squares of all the numbers in the given list of integers using lambda and map functions.\n",
    "# [1, 2, 3, 4, 5, 6, 7, 8, 9, 10]"
   ]
  },
  {
   "cell_type": "markdown",
   "id": "3aa2a04c-fde1-4df6-add4-aef7fe577092",
   "metadata": {},
   "source": [
    "l=[1,2,3,4,5,6,7,8,9,10]"
   ]
  },
  {
   "cell_type": "markdown",
   "id": "7991e01c-16c9-4356-9394-7e615bae0c79",
   "metadata": {},
   "source": [
    "sq_of_numbers=list(map(lambda x: x**2 ,l))\n",
    "\n",
    "print(sq_of_numbers)"
   ]
  },
  {
   "cell_type": "markdown",
   "id": "42c26dd5-d8a7-4dd6-84a6-322ec556d3ed",
   "metadata": {},
   "source": [
    "## OUTPUT\n",
    "\n",
    "[1, 4, 9, 16, 25, 36, 49, 64, 81, 100]"
   ]
  },
  {
   "cell_type": "markdown",
   "id": "47868965-ff7b-45b1-80d7-b40b94676f6e",
   "metadata": {},
   "source": [
    "# Q3. Write a python program to convert the given list of integers into a tuple of strings. Use map and lambda functions\n",
    "# Given String: [1, 2, 3, 4, 5, 6, 7, 8, 9, 10]\n",
    "# Expected output: ('1', '2', '3', '4', '5', '6', '7', '8', '9', '10')"
   ]
  },
  {
   "cell_type": "markdown",
   "id": "c87b00c4-a0be-4aca-ae57-d5bae6afc5ea",
   "metadata": {},
   "source": [
    "l=[1,2,3,4,5,6,7,8,9,10]"
   ]
  },
  {
   "cell_type": "markdown",
   "id": "e2d967b8-bb88-4eb2-9495-4f169e5010e4",
   "metadata": {},
   "source": [
    "changed_str=tuple(map(lambda x: str(x),l))"
   ]
  },
  {
   "cell_type": "markdown",
   "id": "4d9e14cc-d3b9-43ea-a69c-31e24c439783",
   "metadata": {},
   "source": [
    "print(changed_str)"
   ]
  },
  {
   "cell_type": "markdown",
   "id": "f1731bc9-6f3f-4d02-9c55-6ae89ea56ae7",
   "metadata": {},
   "source": [
    "## OUTPUT\n",
    "\n",
    "('1', '2', '3', '4', '5', '6', '7', '8', '9', '10')"
   ]
  },
  {
   "cell_type": "markdown",
   "id": "bdf72ef5-b864-4567-b501-787d756a63a9",
   "metadata": {},
   "source": [
    "# Q4. Write a python program using reduce function to compute the product of a list containing numbers from 1 to 25."
   ]
  },
  {
   "cell_type": "markdown",
   "id": "7288e94c-8e78-4eed-9d34-1fc0e391f3a0",
   "metadata": {},
   "source": [
    "from functools import reduce\n",
    "\n"
   ]
  },
  {
   "cell_type": "markdown",
   "id": "037c1a51-7152-403d-8d92-e831ab0828a8",
   "metadata": {},
   "source": [
    "l=list(range(1,26))"
   ]
  },
  {
   "cell_type": "markdown",
   "id": "cd89d26d-5db6-4ef3-822d-1ee3091468e5",
   "metadata": {},
   "source": [
    "prod=reduce(lambda x,y:x*y,l)"
   ]
  },
  {
   "cell_type": "markdown",
   "id": "f4f5a518-f109-4630-9c77-c7d206a45ebe",
   "metadata": {},
   "source": [
    "print(prod)"
   ]
  },
  {
   "cell_type": "markdown",
   "id": "54930bc6-cf12-4511-8fd8-99da24e9b865",
   "metadata": {},
   "source": [
    "## OUTPUT\n",
    "\n",
    "15511210043330985984000000"
   ]
  },
  {
   "cell_type": "markdown",
   "id": "d27cdcb1-0408-4e6d-8a98-411f4b88a293",
   "metadata": {},
   "source": [
    "# Q5. Write a python program to filter the numbers in a given list that are divisible by 2 and 3 using the filter function.\n",
    "# [2, 3, 6, 9, 27, 60, 90, 120, 55, 46]"
   ]
  },
  {
   "cell_type": "markdown",
   "id": "e47913d7-b41c-4642-8423-d5d08d018f46",
   "metadata": {},
   "source": [
    "l=[2,3,6,9,27,60,120,55,46]\n",
    "\n",
    "a=list(filter(lambda x:x%2==0 and x%3==0,l))\n",
    "\n",
    "print(a)"
   ]
  },
  {
   "cell_type": "markdown",
   "id": "3c1f454a-cd30-4e5b-ad7b-6f8a534907fc",
   "metadata": {},
   "source": [
    "## OUTPUT\n",
    "\n",
    "[6, 60, 120]"
   ]
  },
  {
   "cell_type": "markdown",
   "id": "3d14e6a3-a1b2-45d6-9e97-6fac07be79a8",
   "metadata": {},
   "source": [
    "# Q6. Write a python program to find palindromes in the given list of strings using lambda and filter function.\n",
    "# ['python', 'php', 'aba', 'radar', 'level']"
   ]
  },
  {
   "cell_type": "markdown",
   "id": "6bd40d31-a450-4e6d-90e9-5eb494c21dc6",
   "metadata": {},
   "source": [
    "l=['python','php','aba','radar','level']\n",
    "\n",
    "pal_lst=list(filter(lambda x:x[::-1]==x,l))\n",
    "\n",
    "print(pal_lst)"
   ]
  },
  {
   "cell_type": "markdown",
   "id": "2dbb7ad4-1ffc-4131-acbb-77c4987037fc",
   "metadata": {},
   "source": [
    "## OUTPUT\n",
    "\n",
    "['php', 'aba', 'radar', 'level']"
   ]
  },
  {
   "cell_type": "code",
   "execution_count": null,
   "id": "8734123b-71df-4ca2-b9b6-4aa5314281e8",
   "metadata": {},
   "outputs": [],
   "source": []
  }
 ],
 "metadata": {
  "kernelspec": {
   "display_name": "Python 3 (ipykernel)",
   "language": "python",
   "name": "python3"
  },
  "language_info": {
   "codemirror_mode": {
    "name": "ipython",
    "version": 3
   },
   "file_extension": ".py",
   "mimetype": "text/x-python",
   "name": "python",
   "nbconvert_exporter": "python",
   "pygments_lexer": "ipython3",
   "version": "3.10.8"
  }
 },
 "nbformat": 4,
 "nbformat_minor": 5
}
