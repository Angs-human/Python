{
 "cells": [
  {
   "cell_type": "markdown",
   "id": "18859c8c-15ee-4e6d-ab1c-f63944810f5a",
   "metadata": {},
   "source": [
    "# Q1. Create a python program to sort the given list of tuples based on integer value using a lambda function\n",
    "\n",
    "## [('Sachin Tendulkar', 34357),('Ricky Ponting\", 27483), ('Jack Kllis', 25534), ('Virat Kohli', 24936)]"
   ]
  },
  {
   "cell_type": "code",
   "execution_count": 1,
   "id": "fc27e942-b641-4f7a-bbf8-ac7b3b47bfcd",
   "metadata": {},
   "outputs": [
    {
     "name": "stdout",
     "output_type": "stream",
     "text": [
      "[('Sachin Tendulkar', 34357), ('Ricky Ponting', 27483), ('Jack Kallis', 25534), ('Virat Kohli', 24936)]\n"
     ]
    }
   ],
   "source": [
    "# List of tuples\n",
    "players = [\n",
    "    ('Sachin Tendulkar', 34357),\n",
    "    ('Ricky Ponting', 27483),\n",
    "    ('Jack Kallis', 25534),\n",
    "    ('Virat Kohli', 24936)\n",
    "]\n",
    "\n",
    "# Sorting the list of tuples based on the integer value using a lambda function\n",
    "sorted_players = sorted(players, key=lambda player: player[1], reverse=True)\n",
    "\n",
    "# Printing the sorted list\n",
    "print(sorted_players)\n"
   ]
  },
  {
   "cell_type": "markdown",
   "id": "d97d2960-8606-4015-983f-5718bb23733a",
   "metadata": {},
   "source": [
    "# Q2. Write a Python Program to find the squares of all the numbers in the given list of integers using lambda and map functions.\n",
    "\n",
    "## [1,2,3,4,5,6,7,8,9,10]"
   ]
  },
  {
   "cell_type": "code",
   "execution_count": 2,
   "id": "1a517a39-045b-42df-8858-3eaea5ac7ee9",
   "metadata": {},
   "outputs": [
    {
     "name": "stdout",
     "output_type": "stream",
     "text": [
      "[1, 4, 9, 16, 25, 36, 49, 64, 81, 100]\n"
     ]
    }
   ],
   "source": [
    "# List of integers\n",
    "numbers = [1, 2, 3, 4, 5, 6, 7, 8, 9, 10]\n",
    "\n",
    "# Using map and lambda to find the squares of all numbers in the list\n",
    "squares = list(map(lambda x: x**2, numbers))\n",
    "\n",
    "# Printing the list of squares\n",
    "print(squares)\n"
   ]
  },
  {
   "cell_type": "markdown",
   "id": "694e09a1-8e85-4757-adbc-6ae57902b9d7",
   "metadata": {},
   "source": [
    "# Q3. Write a Python Program to convert the given list of integers into a tuples of strings. Use map and lambda function.\n",
    "\n",
    "## [1,2,3,4,5,6,7,8,9,10]"
   ]
  },
  {
   "cell_type": "code",
   "execution_count": 3,
   "id": "6307bc15-140a-49e9-a394-cfcf334e6400",
   "metadata": {},
   "outputs": [
    {
     "name": "stdout",
     "output_type": "stream",
     "text": [
      "('1', '2', '3', '4', '5', '6', '7', '8', '9', '10')\n"
     ]
    }
   ],
   "source": [
    "# List of integers\n",
    "numbers = [1, 2, 3, 4, 5, 6, 7, 8, 9, 10]\n",
    "\n",
    "# Using map and lambda to convert the list of integers into a tuple of strings\n",
    "tuple_of_strings = tuple(map(lambda x: str(x), numbers))\n",
    "\n",
    "# Printing the tuple of strings\n",
    "print(tuple_of_strings)\n",
    "\n"
   ]
  },
  {
   "cell_type": "markdown",
   "id": "3f64c8cd-43a4-4a06-895f-a9b872a7870c",
   "metadata": {},
   "source": [
    "# Q4. Write a Python Program using reduce function to compute the product of a list containing numbers from 1 to 25"
   ]
  },
  {
   "cell_type": "code",
   "execution_count": 4,
   "id": "24b597c9-998b-4097-bb8c-f6d966a6ffcb",
   "metadata": {},
   "outputs": [
    {
     "name": "stdout",
     "output_type": "stream",
     "text": [
      "15511210043330985984000000\n"
     ]
    }
   ],
   "source": [
    "from functools import reduce\n",
    "\n",
    "# List of integers from 1 to 25\n",
    "numbers = list(range(1, 26))\n",
    "\n",
    "# Using reduce and lambda to compute the product of the list\n",
    "product = reduce(lambda x, y: x * y, numbers)\n",
    "\n",
    "# Printing the product\n",
    "print(product)\n"
   ]
  },
  {
   "cell_type": "markdown",
   "id": "f606b40b-fb60-412b-ae74-e1fcffcd1bfc",
   "metadata": {},
   "source": [
    "# Q5. Write a Python Program to filter the numbers in a given list that are divisible by 2 and 3 using the filter function.\n",
    "\n",
    "## [2,3,6,9,27,60,90,120,55,46]"
   ]
  },
  {
   "cell_type": "code",
   "execution_count": 5,
   "id": "a443d14c-523d-4302-8424-cf0798cbf51e",
   "metadata": {},
   "outputs": [
    {
     "name": "stdout",
     "output_type": "stream",
     "text": [
      "[6, 60, 90, 120]\n"
     ]
    }
   ],
   "source": [
    "# List of integers\n",
    "numbers = [2, 3, 6, 9, 27, 60, 90, 120, 55, 46]\n",
    "\n",
    "# Using filter and lambda to find numbers divisible by both 2 and 3\n",
    "divisible_by_2_and_3 = list(filter(lambda x: x % 2 == 0 and x % 3 == 0, numbers))\n",
    "\n",
    "# Printing the filtered list\n",
    "print(divisible_by_2_and_3)\n"
   ]
  },
  {
   "cell_type": "markdown",
   "id": "9bf50875-5043-409a-9937-7291c7a93c20",
   "metadata": {},
   "source": [
    "# Q6. Write the Python Program to find Palindromes in the given list of strings using lambda and filter functions.\n",
    "\n",
    "## ['python','php','ba','radar','level']"
   ]
  },
  {
   "cell_type": "code",
   "execution_count": 6,
   "id": "4d20ef54-e02c-4608-8a39-c67498287a7b",
   "metadata": {},
   "outputs": [
    {
     "name": "stdout",
     "output_type": "stream",
     "text": [
      "['php', 'radar', 'level']\n"
     ]
    }
   ],
   "source": [
    "# List of strings\n",
    "words = ['python', 'php', 'ba', 'radar', 'level']\n",
    "\n",
    "# Using filter and lambda to find palindromes\n",
    "palindromes = list(filter(lambda word: word == word[::-1], words))\n",
    "\n",
    "# Printing the list of palindromes\n",
    "print(palindromes)\n"
   ]
  }
 ],
 "metadata": {
  "kernelspec": {
   "display_name": "Python 3 (ipykernel)",
   "language": "python",
   "name": "python3"
  },
  "language_info": {
   "codemirror_mode": {
    "name": "ipython",
    "version": 3
   },
   "file_extension": ".py",
   "mimetype": "text/x-python",
   "name": "python",
   "nbconvert_exporter": "python",
   "pygments_lexer": "ipython3",
   "version": "3.10.8"
  }
 },
 "nbformat": 4,
 "nbformat_minor": 5
}
