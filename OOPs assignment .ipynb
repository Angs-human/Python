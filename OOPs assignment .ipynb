{
 "cells": [
  {
   "cell_type": "markdown",
   "id": "ca30b2e6-e214-454e-99ea-c528297be121",
   "metadata": {},
   "source": [
    "# Q1. Explain Class and Object with respect to Object-Oriented Programming. Give a suitable example."
   ]
  },
  {
   "cell_type": "markdown",
   "id": "a87aabec-c232-4b87-ba09-65abc72e57a2",
   "metadata": {},
   "source": [
    "In object-oriented programming, a class is a blueprint or template for creating objects, which are instances of the class. A class defines the characteristics and behaviors that objects of that class will have. The characteristics are represented by the data members or attributes of the class, while the behaviors are represented by the member functions or methods of the class.\n",
    "\n",
    "For example, consider a class called \"Car\" that represents a car in a car rental system. The Car class would have attributes such as make, model, color, and year, and methods such as start_engine(), stop_engine(), accelerate(), and brake(). These attributes and methods define what a Car object is and what it can do.\n",
    "\n",
    "An object, on the other hand, is an instance of a class. It is a concrete entity that is created using the blueprint defined by the class. Each object has its own set of attribute values, which are independent of other objects of the same class.\n",
    "\n",
    "Continuing with the car rental system example, an object of the Car class could be a specific car that a customer has rented, such as a 2019 Toyota Corolla in blue. This object would have its own set of attribute values for make, model, color, and year, as well as its own state regarding whether the engine is running, its current speed, etc.\n",
    "\n",
    "In summary, a class defines the blueprint or template for creating objects, while an object is a concrete instance of a class with its own attribute values and state."
   ]
  },
  {
   "cell_type": "markdown",
   "id": "83c1cac2-6cd6-4f7e-b53e-9ac16608ae8c",
   "metadata": {},
   "source": [
    "# Q2. Name the four pillars of OOPs."
   ]
  },
  {
   "cell_type": "markdown",
   "id": "f66f80c2-6335-465a-ba0c-d5f119f1a103",
   "metadata": {},
   "source": [
    "The four pillars of object-oriented programming (OOP) are:\n",
    "\n",
    "Encapsulation: This is the principle of hiding the implementation details of an object from the outside world, and only exposing a public interface that can be used to interact with the object. Encapsulation helps to ensure that the internal state of an object is not modified directly by external code, and that changes to the implementation of an object do not affect other parts of the code that use the object.\n",
    "\n",
    "Inheritance: This is the mechanism by which a new class is created from an existing class, inheriting the attributes and behaviors of the parent class. Inheritance allows for code reuse and promotes the creation of hierarchical relationships between classes.\n",
    "\n",
    "Polymorphism: This refers to the ability of objects of different classes to be treated as if they were objects of a common parent class. Polymorphism allows for code to be written that can work with objects of different types, as long as they implement a common interface or have a common ancestor.\n",
    "\n",
    "Abstraction: This is the process of identifying the essential characteristics of an object and ignoring the irrelevant details. Abstraction helps to simplify complex systems by focusing on the high-level structure and behavior of objects, while ignoring the implementation details. It is closely related to encapsulation, in that it helps to define a clear public interface for an object."
   ]
  },
  {
   "cell_type": "markdown",
   "id": "786202bb-5394-4c00-8a23-84ba31f61617",
   "metadata": {},
   "source": [
    "# Q3. Explain why the __init__() function is used. Give a suitable example."
   ]
  },
  {
   "cell_type": "markdown",
   "id": "796223f6-831f-4bb9-af6d-89e77e9217d1",
   "metadata": {},
   "source": [
    "In Python, the init() function is a special method that is called when an object of a class is created. It is used to initialize the attributes of the object to some initial values. The init() function is also known as the constructor method.\n",
    "\n",
    "When an object is created, the init() function is called automatically, and any arguments passed to the object creation are passed on to the init() function. The init() function then initializes the attributes of the object to the values passed as arguments."
   ]
  },
  {
   "cell_type": "markdown",
   "id": "975cecbe-3621-4cd6-b44d-bbba878c2e43",
   "metadata": {},
   "source": [
    "class Car:\n",
    "    def __init__(self, make, model, year):\n",
    "        self.make = make\n",
    "        self.model = model\n",
    "        self.year = year\n",
    "\n",
    "    def start_engine(self):\n",
    "        print(\"Engine started\")\n",
    "\n",
    "    def stop_engine(self):\n",
    "        print(\"Engine stopped\")\n"
   ]
  },
  {
   "cell_type": "markdown",
   "id": "ae997d29-1738-4361-b3af-ba0c3f22555e",
   "metadata": {},
   "source": [
    "In this example, the Car class has three attributes: make, model, and year. The init() function takes three arguments, which are used to initialize these attributes when an object of the class is created."
   ]
  },
  {
   "cell_type": "markdown",
   "id": "bb71b4b2-63fa-4fd0-bd03-d232539e2db4",
   "metadata": {},
   "source": [
    "my_car = Car(\"Toyota\", \"Corolla\", 2019)\n"
   ]
  },
  {
   "cell_type": "markdown",
   "id": "0fa47723-83dc-4085-93b4-ac6d1382d73c",
   "metadata": {},
   "source": [
    "The init() function would be called automatically with the arguments \"Toyota\", \"Corolla\", and 2019, and the object my_car would be initialized with these values.\n",
    "\n",
    "Overall, the init() function is used to initialize the attributes of an object when it is created, so that the object has the correct initial state. It is a fundamental method in object-oriented programming and is used in most Python classes."
   ]
  },
  {
   "cell_type": "markdown",
   "id": "ba6c10d2-3297-4eb0-b4fc-c3b8e2fd9240",
   "metadata": {},
   "source": [
    "# Q4. Why self is used in OOPs?"
   ]
  },
  {
   "cell_type": "markdown",
   "id": "7ebe1043-d8b8-40a5-af38-e4445700819e",
   "metadata": {},
   "source": [
    "In object-oriented programming, the self keyword is used to refer to the current instance of a class. It is used to access the attributes and methods of the object that the method is being called on.\n",
    "\n",
    "The self keyword is typically the first parameter of a method in a class, and it is conventionally named self, although you can technically use any valid variable name instead. When a method is called on an object, the self parameter is automatically set to the object that the method is being called on. This allows the method to access and modify the attributes of the object. The self keyword is an essential part of object-oriented programming, as it allows methods to access and modify the attributes of an object."
   ]
  },
  {
   "cell_type": "markdown",
   "id": "1fa3dad1-8080-4677-ae21-46c4de69e5e7",
   "metadata": {},
   "source": [
    "# Q5. What is inheritance? Give an example for each type of inheritance."
   ]
  },
  {
   "cell_type": "markdown",
   "id": "9388d5c5-4623-4ec6-ad16-d46f4d576dac",
   "metadata": {},
   "source": [
    "Inheritance is a fundamental concept in object-oriented programming (OOP) that allows a new class (known as the \"subclass\" or \"derived class\") to be based on an existing class (known as the \"superclass\" or \"base class\"). The subclass inherits the attributes and behaviors of the superclass, and can add its own attributes and behaviors as needed.\n",
    "\n",
    "There are different types of inheritance in OOP, based on how the subclass inherits from the superclass. The main types are:\n",
    "\n",
    "Single inheritance: This is the simplest type of inheritance, in which a subclass inherits from a single superclass. In single inheritance, the subclass has only one direct superclass.\n",
    "\n",
    "## Example:"
   ]
  },
  {
   "cell_type": "markdown",
   "id": "4dc3a414-fa0c-4fab-9a69-6c952c6b693b",
   "metadata": {},
   "source": [
    "class Animal:\n",
    "\n",
    "    def __init__(self, name):\n",
    "        self.name = name\n",
    "\n",
    "    def eat(self):\n",
    "        print(f\"{self.name} is eating.\")\n",
    "\n",
    "class Cat(Animal):\n",
    "\n",
    "    def __init__(self, name, color):\n",
    "        super().__init__(name)\n",
    "        self.color = color\n",
    "\n",
    "    def meow(self):\n",
    "        print(f\"{self.name} is meowing.\")\n",
    "\n",
    "my_cat = Cat(\"Whiskers\", \"gray\")\n",
    "\n",
    "my_cat.eat()\n",
    "\n",
    "my_cat.meow()\n"
   ]
  },
  {
   "cell_type": "markdown",
   "id": "65c6cd73-5172-4897-bbcf-02774d348e54",
   "metadata": {},
   "source": [
    "## Output\n",
    "\n",
    "Whiskers is eating.\n",
    "\n",
    "Whiskers is meowing."
   ]
  },
  {
   "cell_type": "markdown",
   "id": "70856678-81d8-49a5-b0a4-aa99ad931ffb",
   "metadata": {},
   "source": [
    "In this example, Cat is a subclass of Animal, and inherits the __init__() method and the eat() method from the Animal class. The Cat class adds its own __init__() method and meow() method, and also has an additional attribute color.\n",
    "\n",
    "Multiple inheritance: This is a type of inheritance in which a subclass inherits from multiple superclasses. In multiple inheritance, the subclass has more than one direct superclass.\n",
    "\n",
    "## Example:"
   ]
  },
  {
   "cell_type": "markdown",
   "id": "4c8621ca-e2fd-49d3-b239-07af8f9450d8",
   "metadata": {},
   "source": [
    "class FlyingAnimal:\n",
    "\n",
    "    def fly(self):\n",
    "        print(\"Flying\")\n",
    "\n",
    "class SwimmingAnimal:\n",
    "\n",
    "    def swim(self):\n",
    "        print(\"Swimming\")\n",
    "\n",
    "class Duck(FlyingAnimal, SwimmingAnimal):\n",
    "\n",
    "    pass\n",
    "\n",
    "my_duck = Duck()\n",
    "\n",
    "my_duck.fly()\n",
    "\n",
    "my_duck.swim()\n"
   ]
  },
  {
   "cell_type": "markdown",
   "id": "be1d69de-a7fd-4b92-8287-fd0a49ebe37f",
   "metadata": {},
   "source": [
    "## Output\n",
    "\n",
    "Flying\n",
    "\n",
    "Swimming"
   ]
  },
  {
   "cell_type": "markdown",
   "id": "4d7054d9-7b3a-4135-a819-e0fedc716100",
   "metadata": {},
   "source": [
    "In this example, Duck is a subclass of both FlyingAnimal and SwimmingAnimal, and inherits the fly() method from FlyingAnimal and the swim() method from SwimmingAnimal.\n",
    "\n",
    "Hierarchical inheritance: This is a type of inheritance in which a subclass inherits from a single superclass, but there are multiple subclasses that inherit from the same superclass.\n",
    "\n",
    "## Example:"
   ]
  },
  {
   "cell_type": "markdown",
   "id": "a476c82d-b54d-48ea-bb21-329134ca06a8",
   "metadata": {},
   "source": [
    "class Vehicle:\n",
    "\n",
    "    def drive(self):\n",
    "        print(\"Driving\")\n",
    "\n",
    "class Car(Vehicle):\n",
    "\n",
    "    pass\n",
    "\n",
    "class Truck(Vehicle):\n",
    "\n",
    "    pass\n",
    "\n",
    "my_car = Car()\n",
    "\n",
    "\n",
    "my_truck = Truck()\n",
    "\n",
    "my_car.drive()\n",
    "\n",
    "my_truck.drive()\n"
   ]
  },
  {
   "cell_type": "markdown",
   "id": "1858f5bd-2229-4348-80b4-e74918921c82",
   "metadata": {},
   "source": [
    "## Output\n",
    "\n",
    "Driving\n",
    "\n",
    "Driving"
   ]
  },
  {
   "cell_type": "markdown",
   "id": "3cf79e2e-7e73-47fa-8429-576747169ba6",
   "metadata": {},
   "source": [
    "In this example, both Car and Truck are subclasses of Vehicle, and inherit the drive() method from the Vehicle class.\n",
    "\n",
    "Multi-level inheritance: This is a type of inheritance in which a subclass inherits from a superclass, which in turn inherits from another superclass.\n",
    "\n",
    "## Example:"
   ]
  },
  {
   "cell_type": "markdown",
   "id": "4e8d1af1-2738-4023-a16d-abaa04580cc6",
   "metadata": {},
   "source": [
    "class Animal:\n",
    "\n",
    "    def breathe(self):\n",
    "        print(\"Breathing\")\n",
    "\n",
    "class Mammal(Animal):\n",
    "\n",
    "    def feed_milk(self):\n",
    "        print(\"Feeding milk\")\n",
    "\n",
    "class Dog(Mammal):\n",
    "\n",
    "    def bark(self):\n",
    "        print(\"Barking\")\n",
    "\n",
    "my_dog = Dog()\n",
    "\n",
    "my_dog.breathe()\n",
    "\n",
    "my_dog.feed_milk()\n",
    "\n",
    "my_dog.bark()\n"
   ]
  },
  {
   "cell_type": "markdown",
   "id": "b6084d43-878d-4117-981e-6c8eedb15866",
   "metadata": {},
   "source": [
    "## Output\n",
    "\n",
    "Breathing\n",
    "\n",
    "Feeding milk\n",
    "\n",
    "Barking"
   ]
  },
  {
   "cell_type": "markdown",
   "id": "24962923-ccbc-4f10-a805-00d346f4ed84",
   "metadata": {},
   "source": [
    "In this example, Dog is a subclass of Mammal, which is a subclass of Animal. Dog inherits the breathe() method from Animal and the feed_milk() method from Mammal, and adds its own bark() method."
   ]
  }
 ],
 "metadata": {
  "kernelspec": {
   "display_name": "Python 3 (ipykernel)",
   "language": "python",
   "name": "python3"
  },
  "language_info": {
   "codemirror_mode": {
    "name": "ipython",
    "version": 3
   },
   "file_extension": ".py",
   "mimetype": "text/x-python",
   "name": "python",
   "nbconvert_exporter": "python",
   "pygments_lexer": "ipython3",
   "version": "3.10.8"
  }
 },
 "nbformat": 4,
 "nbformat_minor": 5
}
