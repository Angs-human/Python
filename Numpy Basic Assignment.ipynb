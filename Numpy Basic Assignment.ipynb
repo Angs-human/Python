{
 "cells": [
  {
   "cell_type": "code",
   "execution_count": 2,
   "id": "ffc5eebc-55e1-4939-8024-068d6c0201c6",
   "metadata": {},
   "outputs": [],
   "source": [
    "import numpy as np\n",
    "list_ = [ '1', '2','3' ,'4', '5']\n",
    "array_list = np.array(object = list_)"
   ]
  },
  {
   "cell_type": "markdown",
   "id": "b9f91d51-9ecf-4693-ad7d-7acebc7fcd3f",
   "metadata": {},
   "source": [
    "# Q1. Is there any difference in the data type of variables list_ and array_list? If there is then write a code to print the data types of both the variables."
   ]
  },
  {
   "cell_type": "markdown",
   "id": "180f71cd-8f1c-4d80-9245-424459fc9be8",
   "metadata": {},
   "source": [
    "Yes, there is a difference in the data types of the variables list_ and array_list. The variable list_ is a Python list, while array_list is a NumPy array. The data type of list_ will be list, and the data type of array_list will be numpy.ndarray."
   ]
  },
  {
   "cell_type": "markdown",
   "id": "b71f6e1c-9834-403c-b133-7e19a93f80dd",
   "metadata": {},
   "source": [
    "# Q2. Write a code to print the data type of each and every element of both the variables list_ and array_list."
   ]
  },
  {
   "cell_type": "code",
   "execution_count": 3,
   "id": "3789d895-2084-4f7f-9fd9-f9f4bde42982",
   "metadata": {},
   "outputs": [
    {
     "name": "stdout",
     "output_type": "stream",
     "text": [
      "Data types of elements in list_:\n",
      "Element: 1, Type: <class 'str'>\n",
      "Element: 2, Type: <class 'str'>\n",
      "Element: 3, Type: <class 'str'>\n",
      "Element: 4, Type: <class 'str'>\n",
      "Element: 5, Type: <class 'str'>\n",
      "\n",
      "Data types of elements in array_list:\n",
      "Element: 1, Type: <class 'numpy.str_'>\n",
      "Element: 2, Type: <class 'numpy.str_'>\n",
      "Element: 3, Type: <class 'numpy.str_'>\n",
      "Element: 4, Type: <class 'numpy.str_'>\n",
      "Element: 5, Type: <class 'numpy.str_'>\n"
     ]
    }
   ],
   "source": [
    "import numpy as np\n",
    "\n",
    "list_ = ['1', '2', '3', '4', '5']  # Python list\n",
    "array_list = np.array(object=list_)  # NumPy array\n",
    "\n",
    "# Print data types of each element in list_\n",
    "print(\"Data types of elements in list_:\")\n",
    "for element in list_:\n",
    "    print(f\"Element: {element}, Type: {type(element)}\")\n",
    "\n",
    "# Print data types of each element in array_list\n",
    "print(\"\\nData types of elements in array_list:\")\n",
    "for element in array_list:\n",
    "    print(f\"Element: {element}, Type: {type(element)}\")\n"
   ]
  },
  {
   "cell_type": "markdown",
   "id": "2024fc25-6df8-40c2-8ebe-95f56bc6c418",
   "metadata": {},
   "source": [
    "# Q3. Considering the following changes in the variable, array_list:\n",
    "array_list = np.array(object = list_, dtype = int)\n",
    "# Will there be any difference in the data type of the elements present in both the variables, list_ and arra_list? If so then print the data types of each and every element present in both the variables, list_ and arra_list."
   ]
  },
  {
   "cell_type": "markdown",
   "id": "b2be8326-9913-4562-8ece-196e35c6cdbd",
   "metadata": {},
   "source": [
    "Yes, there will be a difference in the data type of the elements present in list_ and array_list after converting array_list to a NumPy array with a specified data type (dtype=int). The elements in list_ will remain as strings (str), while the elements in array_list will be converted to integers (int)."
   ]
  },
  {
   "cell_type": "code",
   "execution_count": 4,
   "id": "732b81f1-21dd-4db0-baf9-1bdd4aec8def",
   "metadata": {},
   "outputs": [
    {
     "name": "stdout",
     "output_type": "stream",
     "text": [
      "Data types of elements in list_:\n",
      "Element: 1, Type: <class 'str'>\n",
      "Element: 2, Type: <class 'str'>\n",
      "Element: 3, Type: <class 'str'>\n",
      "Element: 4, Type: <class 'str'>\n",
      "Element: 5, Type: <class 'str'>\n",
      "\n",
      "Data types of elements in array_list:\n",
      "Element: 1, Type: <class 'numpy.int64'>\n",
      "Element: 2, Type: <class 'numpy.int64'>\n",
      "Element: 3, Type: <class 'numpy.int64'>\n",
      "Element: 4, Type: <class 'numpy.int64'>\n",
      "Element: 5, Type: <class 'numpy.int64'>\n"
     ]
    }
   ],
   "source": [
    "import numpy as np\n",
    "\n",
    "list_ = ['1', '2', '3', '4', '5']  # Python list\n",
    "array_list = np.array(object=list_, dtype=int)  # NumPy array with elements as integers\n",
    "\n",
    "# Print data types of each element in list_\n",
    "print(\"Data types of elements in list_:\")\n",
    "for element in list_:\n",
    "    print(f\"Element: {element}, Type: {type(element)}\")\n",
    "\n",
    "# Print data types of each element in array_list\n",
    "print(\"\\nData types of elements in array_list:\")\n",
    "for element in array_list:\n",
    "    print(f\"Element: {element}, Type: {type(element)}\")\n"
   ]
  },
  {
   "cell_type": "code",
   "execution_count": 5,
   "id": "76d7b453-c92b-4e97-8918-834b8de1b643",
   "metadata": {},
   "outputs": [],
   "source": [
    "import numpy as np\n",
    "num_list = [ [ 1 , 2 , 3 ] , [ 4 , 5 , 6 ] ]\n",
    "num_array = np.array(object = num_list)\n"
   ]
  },
  {
   "cell_type": "markdown",
   "id": "6ec3708b-c898-4f24-96ea-4491a5ba92db",
   "metadata": {},
   "source": [
    "# Q4. Write a code to find the following characteristics of variable, num_array:\n",
    "## (i) shape\n",
    " ## (ii) size"
   ]
  },
  {
   "cell_type": "markdown",
   "id": "a7dfb69c-f8cb-4c32-a705-a98fef1f1864",
   "metadata": {},
   "source": [
    "You can use the `shape` and `size` attributes of a NumPy array to find the required characteristics of the `num_array`. Here's the code to do that:\n",
    "\n",
    "```python\n",
    "import numpy as np\n",
    "\n",
    "num_list = [[1, 2, 3], [4, 5, 6]]  # Python list of lists\n",
    "num_array = np.array(object=num_list)  # NumPy array\n",
    "\n",
    "# Find and print the shape of num_array\n",
    "print(\"Shape of num_array:\", num_array.shape)\n",
    "\n",
    "# Find and print the size of num_array\n",
    "print(\"Size of num_array:\", num_array.size)\n",
    "```\n",
    "\n",
    "When you run this code, you will get the following output:\n",
    "\n",
    "```\n",
    "Shape of num_array: (2, 3)\n",
    "Size of num_array: 6\n",
    "```\n",
    "\n",
    "### Explanation:\n",
    "- **Shape**: The `shape` attribute returns a tuple representing the dimensions of the array. In this case, `(2, 3)` indicates that `num_array` has 2 rows and 3 columns.\n",
    "- **Size**: The `size` attribute returns the total number of elements in the array. Here, `num_array` contains 6 elements in total."
   ]
  },
  {
   "cell_type": "markdown",
   "id": "f5186a12-6b6d-45be-b6f6-584072cc99fa",
   "metadata": {},
   "source": [
    "# Q5. Write a code to create numpy array of 3*3 matrix containing zeros only, using a numpy array creation function."
   ]
  },
  {
   "cell_type": "code",
   "execution_count": 7,
   "id": "a11fee9d-b64a-4803-9e51-fcc81bfd3b52",
   "metadata": {},
   "outputs": [
    {
     "name": "stdout",
     "output_type": "stream",
     "text": [
      "[[0. 0. 0.]\n",
      " [0. 0. 0.]\n",
      " [0. 0. 0.]]\n"
     ]
    }
   ],
   "source": [
    "\n",
    "\n",
    "# Create a 3x3 matrix containing zeros\n",
    "zero_matrix = np.zeros((3, 3))\n",
    "\n",
    "# Print the matrix\n",
    "print(zero_matrix)\n"
   ]
  },
  {
   "cell_type": "markdown",
   "id": "b6f168a5-995a-40cf-ae9e-7dbfa456dbe9",
   "metadata": {},
   "source": [
    "# Q6. Create an identity matrix of shape (5,5) using numpy functions?"
   ]
  },
  {
   "cell_type": "code",
   "execution_count": 8,
   "id": "2b0b74fa-e004-46e8-8e93-8ab51e9c8b86",
   "metadata": {},
   "outputs": [
    {
     "name": "stdout",
     "output_type": "stream",
     "text": [
      "Identity matrix using np.eye:\n",
      "[[1. 0. 0. 0. 0.]\n",
      " [0. 1. 0. 0. 0.]\n",
      " [0. 0. 1. 0. 0.]\n",
      " [0. 0. 0. 1. 0.]\n",
      " [0. 0. 0. 0. 1.]]\n"
     ]
    }
   ],
   "source": [
    "\n",
    "\n",
    "# Create a 5x5 identity matrix using np.eye\n",
    "identity_matrix_eye = np.eye(5)\n",
    "\n",
    "# Print the matrix\n",
    "print(\"Identity matrix using np.eye:\")\n",
    "print(identity_matrix_eye)\n"
   ]
  }
 ],
 "metadata": {
  "kernelspec": {
   "display_name": "Python 3 (ipykernel)",
   "language": "python",
   "name": "python3"
  },
  "language_info": {
   "codemirror_mode": {
    "name": "ipython",
    "version": 3
   },
   "file_extension": ".py",
   "mimetype": "text/x-python",
   "name": "python",
   "nbconvert_exporter": "python",
   "pygments_lexer": "ipython3",
   "version": "3.10.8"
  }
 },
 "nbformat": 4,
 "nbformat_minor": 5
}
