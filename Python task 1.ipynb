{
 "cells": [
  {
   "cell_type": "markdown",
   "id": "61fa1ca2-948b-41c8-9042-6bd6bd14c550",
   "metadata": {},
   "source": [
    "# Q1. Create a function which will take a list as an argument and return the product of all the numbers after creating a flat list.\n",
    "\n",
    "## Use the below-given list as an argument for your function.\n",
    "    list1 = [1,2,3,4, [44,55,66, True], False, (34,56,78,89,34), {1,2,3,3,2,1}, {1:34, \"key2\": [55, 67, 78, 89], 4: (45,\n",
    "    22, 61, 34)}, [56, 'data science'], 'Machine Learning']\n",
    "    Note: you must extract numeric keys and values of the dictionary also."
   ]
  },
  {
   "cell_type": "code",
   "execution_count": 1,
   "id": "7a894620-e558-4d0f-9ba0-11e4a35ce7b3",
   "metadata": {},
   "outputs": [
    {
     "name": "stdout",
     "output_type": "stream",
     "text": [
      "0\n"
     ]
    }
   ],
   "source": [
    "from functools import reduce\n",
    "from operator import mul\n",
    "\n",
    "def flatten_and_multiply(lst):\n",
    "    # Helper function to recursively flatten the list\n",
    "    def flatten(item):\n",
    "        if isinstance(item, list):\n",
    "            for sub_item in item:\n",
    "                yield from flatten(sub_item)\n",
    "        elif isinstance(item, tuple):\n",
    "            for sub_item in item:\n",
    "                yield from flatten(sub_item)\n",
    "        elif isinstance(item, set):\n",
    "            for sub_item in item:\n",
    "                yield from flatten(sub_item)\n",
    "        elif isinstance(item, dict):\n",
    "            for key, value in item.items():\n",
    "                yield from flatten(key)\n",
    "                yield from flatten(value)\n",
    "        elif isinstance(item, (int, float)):  # Numeric values\n",
    "            yield item\n",
    "\n",
    "    # Flatten the list and filter numeric values\n",
    "    flat_list = list(flatten(lst))\n",
    "    \n",
    "    # Calculate the product of all numbers in the flattened list\n",
    "    product = reduce(mul, (num for num in flat_list if isinstance(num, (int, float))), 1)\n",
    "    \n",
    "    return product\n",
    "\n",
    "# Example list\n",
    "list1 = [1,2,3,4, [44,55,66, True], False, (34,56,78,89,34), {1,2,3,3,2,1}, \n",
    "         {1:34, \"key2\": [55, 67, 78, 89], 4: (45, 22, 61, 34)}, [56, 'data science'], 'Machine Learning']\n",
    "\n",
    "# Get the product of all numbers in the flattened list\n",
    "result = flatten_and_multiply(list1)\n",
    "print(result)  # Output the result\n"
   ]
  },
  {
   "cell_type": "markdown",
   "id": "2361dc8e-3263-4091-8f60-c5784a87bc70",
   "metadata": {},
   "source": [
    "# Q2. Write a python program for encrypting a message sent to you by your friend. The logic of encryption should be such that, for a the output should be z. For b, the output should be y. For c, the output should be x respectively. Also, the whitespace should be replaced with a dollar sign. Keep the punctuation marks unchanged.\n",
    "## Input Sentence: I want to become a Data Scientist.\n",
    "    Encrypt the above input sentence using the program you just created.\n",
    "    Note: Convert the given input sentence into lowercase before encrypting. The final output should be\n",
    "    lowercase."
   ]
  },
  {
   "cell_type": "code",
   "execution_count": null,
   "id": "b453c8f4-dada-4d59-8097-f12fd3571663",
   "metadata": {},
   "outputs": [],
   "source": []
  }
 ],
 "metadata": {
  "kernelspec": {
   "display_name": "Python 3 (ipykernel)",
   "language": "python",
   "name": "python3"
  },
  "language_info": {
   "codemirror_mode": {
    "name": "ipython",
    "version": 3
   },
   "file_extension": ".py",
   "mimetype": "text/x-python",
   "name": "python",
   "nbconvert_exporter": "python",
   "pygments_lexer": "ipython3",
   "version": "3.10.8"
  }
 },
 "nbformat": 4,
 "nbformat_minor": 5
}
