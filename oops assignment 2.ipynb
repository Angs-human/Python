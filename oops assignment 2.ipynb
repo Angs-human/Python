{
 "cells": [
  {
   "cell_type": "markdown",
   "id": "022bc8d3-f0a4-40e3-9c60-a3b9bb468bfe",
   "metadata": {},
   "source": [
    "## Q1, Create a vehicle class with an init method having instance variables as name_of_vehicle, max_speed and average_of_vehicle."
   ]
  },
  {
   "cell_type": "markdown",
   "id": "41214ca0-c172-4554-9bd1-cf3c0808baa1",
   "metadata": {},
   "source": [
    "class vehicle:\n",
    "\n",
    "    def __init__(self,name_of_vehicle,max_speed,average_of_vehicle):\n",
    "        self.name_of_vehicle=name_of_vehicle\n",
    "        self.max_speed=max_speed\n",
    "        self.average_of_vehicle=average_of_vehicle\n",
    "    \n",
    "    def return_car_details(self):\n",
    "        return self.name_of_vehicle,self.max_speed,self.average_of_vehicle\n",
    "    "
   ]
  },
  {
   "cell_type": "markdown",
   "id": "6780f5ef-9fb5-49fa-a544-9098c80a8cd2",
   "metadata": {},
   "source": [
    "## Q2. Create a child class car from the vehicle class created in Que 1, which will inherit the vehicle class. Create a method named seating_capacity which takes capacity as an argument and returns the name of the vehicle and its seating capacity."
   ]
  },
  {
   "cell_type": "markdown",
   "id": "173f2b08-61d7-4139-99a8-2dfe89e637eb",
   "metadata": {},
   "source": [
    "class Car(vehicle):\n",
    "\n",
    "    def __init__(self, name_of_vehicle, max_speed, average_of_vehicle):\n",
    "        super().__init__(name_of_vehicle, max_speed, average_of_vehicle)\n",
    "\n",
    "    def seating_capacity(self, capacity):\n",
    "        return f\"{self.name_of_vehicle} has a seating capacity of {capacity} people.\"\n"
   ]
  },
  {
   "cell_type": "markdown",
   "id": "d4b3672c-126c-4c08-be9a-26c429ecb249",
   "metadata": {},
   "source": [
    "car = Car(\"lambo\", 400, 30)\n",
    "\n",
    "print(car.seating_capacity(2))\n"
   ]
  },
  {
   "cell_type": "markdown",
   "id": "9af0eeb3-cf27-4595-b71d-3b9e87ec2ee8",
   "metadata": {},
   "source": [
    "lambo has a seating capacity of 2 people."
   ]
  },
  {
   "cell_type": "markdown",
   "id": "e033a30f-b834-4234-abd6-8c715edb7939",
   "metadata": {},
   "source": [
    "## Q3. What is multiple inheritance? Write a python code to demonstrate multiple inheritance."
   ]
  },
  {
   "cell_type": "markdown",
   "id": "bd528d07-e526-4edf-9def-38e4c7240421",
   "metadata": {},
   "source": [
    "Multiple inheritance is a feature of object-oriented programming languages that allows a class to inherit from more than one parent class. This means that a child class can have access to the attributes and methods of multiple parent classes.\n",
    "\n",
    "Here's an example implementation in Python of a class that demonstrates multiple inheritance:"
   ]
  },
  {
   "cell_type": "markdown",
   "id": "1c716369-5b4e-462a-918a-56b0e8f66b4b",
   "metadata": {},
   "source": [
    "class Animal:\n",
    "\n",
    "    def __init__(self, name):\n",
    "        self.name = name\n",
    "\n",
    "    def eat(self):\n",
    "        print(f\"{self.name} is eating.\")\n",
    "\n",
    "class Pet:\n",
    "\n",
    "    def __init__(self, name, breed):\n",
    "        self.name = name\n",
    "        self.breed = breed\n",
    "\n",
    "    def play(self):\n",
    "        print(f\"{self.name} is playing.\")\n",
    "\n",
    "class Dog(Animal, Pet):\n",
    "\n",
    "    def __init__(self, name, breed):\n",
    "        Animal.__init__(self, name)\n",
    "        Pet.__init__(self, name, breed)\n",
    "\n",
    "    def bark(self):\n",
    "        print(\"Woof!\")\n",
    "\n",
    "dog = Dog(\"Max\", \"Labrador Retriever\")\n",
    "\n",
    "dog.eat() # Max is eating.\n",
    "\n",
    "dog.play() # Max is playing.\n",
    "\n",
    "dog.bark() # Woof!\n"
   ]
  },
  {
   "cell_type": "markdown",
   "id": "39822180-3fb9-40e4-a61f-ed5a2f7bf708",
   "metadata": {},
   "source": [
    "In this example, the Animal and Pet classes are parent classes of the Dog class. The Dog class inherits from both Animal and Pet classes, allowing it to access the eat, play, and bark methods of its parent classes.\n",
    "\n",
    "To demonstrate multiple inheritance, the Dog class overrides the __init__ method of both parent classes and calls them using Animal.__init__(self, name) and Pet.__init__(self, name, breed) statements in order to initialize the instance variables name and breed.\n",
    "\n",
    "Finally, we create an instance of the Dog class named dog and call its methods eat, play, and bark. This results in the output:"
   ]
  },
  {
   "cell_type": "markdown",
   "id": "7afb7dbf-91c6-469e-ba50-7a11a2a131e7",
   "metadata": {},
   "source": [
    "Max is eating.\n",
    "\n",
    "Max is playing.\n",
    "\n",
    "Woof!"
   ]
  },
  {
   "cell_type": "markdown",
   "id": "3ca12a6b-1910-4c53-ab19-7946adeda962",
   "metadata": {},
   "source": [
    "Here, the Dog class is able to access the methods of both Animal and Pet classes due to multiple inheritance."
   ]
  },
  {
   "cell_type": "markdown",
   "id": "91ef0e64-9cb2-4e7b-b62b-0332ab03b40c",
   "metadata": {},
   "source": [
    "## Q4. What are getter and setter in python? Create a class and create a getter and a setter method in this class."
   ]
  },
  {
   "cell_type": "markdown",
   "id": "539242bd-3824-48a2-88eb-26f9f36556bc",
   "metadata": {},
   "source": [
    "In Python, getters and setters are methods used to retrieve and modify the values of class attributes, respectively. They are commonly used to control access to class attributes, ensuring that they are not set to invalid or unexpected values.\n",
    "\n",
    "Here's an example implementation of a class that has a getter and a setter method:\n",
    "\n",
    "\n"
   ]
  },
  {
   "cell_type": "markdown",
   "id": "8a737d80-b8b5-4150-9299-acb57a4b9a2d",
   "metadata": {},
   "source": [
    "class Person:\n",
    "\n",
    "    def __init__(self, name, age):\n",
    "        self._name = name\n",
    "        self._age = age\n",
    "\n",
    "    def get_name(self):\n",
    "        return self._name\n",
    "\n",
    "    def set_name(self, name):\n",
    "        self._name = name\n",
    "\n",
    "    def get_age(self):\n",
    "        return self._age\n",
    "\n",
    "    def set_age(self, age):\n",
    "        if age > 0:\n",
    "            self._age = age\n",
    "        else:\n",
    "            print(\"Invalid age\")\n",
    "\n",
    "person = Person(\"John\", 30)\n",
    "\n",
    "\n",
    "print(person.get_name()) # John\n",
    "\n",
    "person.set_name(\"Jack\")\n",
    "\n",
    "print(person.get_name()) # Jack\n",
    "\n",
    "\n",
    "print(person.get_age()) # 30\n",
    "\n",
    "person.set_age(-10) # Invalid age\n",
    "\n",
    "print(person.get_age()) # 30\n",
    "\n",
    "person.set_age(40)\n",
    "\n",
    "print(person.get_age()) # 40\n"
   ]
  },
  {
   "cell_type": "markdown",
   "id": "25d31598-4da4-48b9-8159-d793d07325fc",
   "metadata": {},
   "source": [
    "In this example, the Person class has two instance variables, _name and _age. The _ prefix indicates that these attributes are intended to be private, meaning they should not be accessed or modified directly from outside the class.\n",
    "\n",
    "To provide access to these private attributes, we define getter and setter methods. The get_name and get_age methods simply return the values of the corresponding instance variables, while the set_name and set_age methods allow us to modify these values.\n",
    "\n",
    "The set_age method includes a check to ensure that the age is a positive integer. If the age is negative, it prints an error message and does not modify the _age instance variable.\n",
    "\n",
    "Finally, we create an instance of the Person class named person and call its getter and setter methods to access and modify its private attributes. This results in the output:"
   ]
  },
  {
   "cell_type": "markdown",
   "id": "fc0c6bba-bf7f-4c04-968d-ac35f4349d91",
   "metadata": {},
   "source": [
    "John\n",
    "Jack\n",
    "30\n",
    "Invalid age\n",
    "30\n",
    "40"
   ]
  },
  {
   "cell_type": "markdown",
   "id": "1e687b6b-4694-4b4d-828e-187af84bbda4",
   "metadata": {},
   "source": [
    "Here, we can see that the set_age method prevents the age from being set to a negative value, while the get_name, set_name, get_age, and set_age methods provide controlled access to the private instance variables of the Person class."
   ]
  },
  {
   "cell_type": "markdown",
   "id": "a0bd2091-e86e-4017-bc43-159db33564b0",
   "metadata": {},
   "source": [
    "## Q5.What is method overriding in python? Write a python code to demonstrate method overriding."
   ]
  },
  {
   "cell_type": "markdown",
   "id": "e26834d9-d343-436e-a7f7-3cf525bc3428",
   "metadata": {},
   "source": [
    "Method overriding is a feature of object-oriented programming in which a subclass provides a different implementation of a method that is already defined in its superclass. The overridden method in the subclass must have the same name, parameters, and return type as the method in the superclass.\n",
    "\n",
    "Here's an example implementation in Python of a class that demonstrates method overriding:\n",
    "\n",
    "python"
   ]
  },
  {
   "cell_type": "markdown",
   "id": "5f78bbb4-7661-405a-b5ec-3070e38b30e8",
   "metadata": {},
   "source": [
    "class Shape:\n",
    "\n",
    "    def area(self):\n",
    "        print(\"Calculating area...\")\n",
    "\n",
    "class Square(Shape):\n",
    "\n",
    "    def __init__(self, side):\n",
    "        self.side = side\n",
    "\n",
    "    def area(self):\n",
    "        print(f\"Calculating area of square with side {self.side}...\")\n",
    "        return self.side ** 2\n",
    "\n",
    "class Circle(Shape):\n",
    "\n",
    "    def __init__(self, radius):\n",
    "        self.radius = radius\n",
    "\n",
    "    def area(self):\n",
    "        print(f\"Calculating area of circle with radius {self.radius}...\")\n",
    "        return 3.14 * self.radius ** 2\n",
    "\n",
    "square = Square(5)\n",
    "\n",
    "print(square.area()) # Calculating area of square with side 5... 25\n",
    "\n",
    "circle = Circle(2)\n",
    "\n",
    "print(circle.area()) # Calculating area of circle with radius 2... 12.56\n"
   ]
  },
  {
   "cell_type": "markdown",
   "id": "c7134d6d-073f-4f6b-9e46-e3a2f7aa0ef9",
   "metadata": {},
   "source": [
    "In this example, the Shape class has a method named area, which simply prints a message indicating that the area is being calculated. The Square and Circle classes inherit from the Shape class and provide their own implementations of the area method.\n",
    "\n",
    "The Square class overrides the area method to calculate the area of a square with a given side length. It first prints a message indicating that the area of a square is being calculated, and then returns the area of the square using the formula side ** 2.\n",
    "\n",
    "The Circle class overrides the area method to calculate the area of a circle with a given radius. It first prints a message indicating that the area of a circle is being calculated, and then returns the area of the circle using the formula 3.14 * radius ** 2.\n",
    "\n",
    "Finally, we create instances of the Square and Circle classes named square and circle, respectively, and call their area methods. This results in the output:"
   ]
  },
  {
   "cell_type": "markdown",
   "id": "1f24930d-830e-4c09-8611-3d6118425bee",
   "metadata": {},
   "source": [
    "Calculating area of square with side 5...\n",
    "\n",
    "25\n",
    "\n",
    "Calculating area of circle with radius 2...\n",
    "\n",
    "12.56\n",
    "​"
   ]
  },
  {
   "cell_type": "markdown",
   "id": "d120b974-b435-4a9c-b140-6636654b335f",
   "metadata": {},
   "source": [
    "Here, we can see that the area method of each subclass provides a different implementation of the method that is defined in the Shape superclass. This is an example of method overriding in Python."
   ]
  }
 ],
 "metadata": {
  "kernelspec": {
   "display_name": "Python 3 (ipykernel)",
   "language": "python",
   "name": "python3"
  },
  "language_info": {
   "codemirror_mode": {
    "name": "ipython",
    "version": 3
   },
   "file_extension": ".py",
   "mimetype": "text/x-python",
   "name": "python",
   "nbconvert_exporter": "python",
   "pygments_lexer": "ipython3",
   "version": "3.10.8"
  }
 },
 "nbformat": 4,
 "nbformat_minor": 5
}
