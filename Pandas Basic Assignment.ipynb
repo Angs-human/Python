{
 "cells": [
  {
   "cell_type": "markdown",
   "id": "a98d13cd-5c8c-4a2e-ac27-59615d3ef4e7",
   "metadata": {},
   "source": [
    "# Q1. Create a Pandas Series that contains the following data: 4, 8, 15, 16, 23, and 42. Then, print the series."
   ]
  },
  {
   "cell_type": "code",
   "execution_count": 1,
   "id": "9dcc8b79-b220-4722-8739-b8ef06d1c5d2",
   "metadata": {},
   "outputs": [
    {
     "data": {
      "text/plain": [
       "0     4\n",
       "1     8\n",
       "2    15\n",
       "3    16\n",
       "4    23\n",
       "5    42\n",
       "dtype: int64"
      ]
     },
     "execution_count": 1,
     "metadata": {},
     "output_type": "execute_result"
    }
   ],
   "source": [
    "import pandas as pd\n",
    "\n",
    "# Creating the Pandas Series\n",
    "data = [4, 8, 15, 16, 23, 42]\n",
    "series = pd.Series(data)\n",
    "\n",
    "# Printing the series\n",
    "series\n"
   ]
  },
  {
   "cell_type": "markdown",
   "id": "7782c5bb-3d8d-40fc-9228-dbf173bfba72",
   "metadata": {},
   "source": [
    "# Q2. Create a variable of list type containing 10 elements in it, and apply pandas.Series function on the variable print it."
   ]
  },
  {
   "cell_type": "code",
   "execution_count": 3,
   "id": "f67132fe-890c-4738-b471-6d8c598edd34",
   "metadata": {},
   "outputs": [
    {
     "data": {
      "text/html": [
       "<div>\n",
       "<style scoped>\n",
       "    .dataframe tbody tr th:only-of-type {\n",
       "        vertical-align: middle;\n",
       "    }\n",
       "\n",
       "    .dataframe tbody tr th {\n",
       "        vertical-align: top;\n",
       "    }\n",
       "\n",
       "    .dataframe thead th {\n",
       "        text-align: right;\n",
       "    }\n",
       "</style>\n",
       "<table border=\"1\" class=\"dataframe\">\n",
       "  <thead>\n",
       "    <tr style=\"text-align: right;\">\n",
       "      <th></th>\n",
       "      <th>Name</th>\n",
       "      <th>Age</th>\n",
       "      <th>Gender</th>\n",
       "    </tr>\n",
       "  </thead>\n",
       "  <tbody>\n",
       "    <tr>\n",
       "      <th>0</th>\n",
       "      <td>Alice</td>\n",
       "      <td>25</td>\n",
       "      <td>Female</td>\n",
       "    </tr>\n",
       "    <tr>\n",
       "      <th>1</th>\n",
       "      <td>Bob</td>\n",
       "      <td>30</td>\n",
       "      <td>Male</td>\n",
       "    </tr>\n",
       "    <tr>\n",
       "      <th>2</th>\n",
       "      <td>Claire</td>\n",
       "      <td>27</td>\n",
       "      <td>Female</td>\n",
       "    </tr>\n",
       "  </tbody>\n",
       "</table>\n",
       "</div>"
      ],
      "text/plain": [
       "     Name  Age  Gender\n",
       "0   Alice   25  Female\n",
       "1     Bob   30    Male\n",
       "2  Claire   27  Female"
      ]
     },
     "execution_count": 3,
     "metadata": {},
     "output_type": "execute_result"
    }
   ],
   "source": [
    "# Creating a Pandas DataFrame with the given data\n",
    "data = {\n",
    "    'Name': ['Alice', 'Bob', 'Claire'],\n",
    "    'Age': [25, 30, 27],\n",
    "    'Gender': ['Female', 'Male', 'Female']\n",
    "}\n",
    "\n",
    "df = pd.DataFrame(data)\n",
    "\n",
    "# Printing the DataFrame\n",
    "df\n"
   ]
  },
  {
   "cell_type": "markdown",
   "id": "4b95abf7-8153-4bd2-a2b7-c4813611b6f9",
   "metadata": {},
   "source": [
    "# Q3. Create a Pandas DataFrame that contains the following data:\n",
    "\n",
    "Then, print the DataFrame.\n",
    "Name\n",
    "Alice\n",
    "Bob\n",
    "Claire\n",
    "\n",
    "Age\n",
    "25\n",
    "30\n",
    "27\n",
    "\n",
    "Gender\n",
    "Female\n",
    "Male\n",
    "Female"
   ]
  },
  {
   "cell_type": "code",
   "execution_count": 2,
   "id": "d4e36ebb-490f-4d7f-8848-ae36fa7274c9",
   "metadata": {},
   "outputs": [
    {
     "data": {
      "text/plain": [
       "0     3\n",
       "1     7\n",
       "2    12\n",
       "3    19\n",
       "4    25\n",
       "5    31\n",
       "6    38\n",
       "7    44\n",
       "8    50\n",
       "9    57\n",
       "dtype: int64"
      ]
     },
     "execution_count": 2,
     "metadata": {},
     "output_type": "execute_result"
    }
   ],
   "source": [
    "# Creating a list with 10 elements\n",
    "data_list = [3, 7, 12, 19, 25, 31, 38, 44, 50, 57]\n",
    "\n",
    "# Converting the list to a Pandas Series\n",
    "series_from_list = pd.Series(data_list)\n",
    "\n",
    "# Printing the series\n",
    "series_from_list\n"
   ]
  },
  {
   "cell_type": "markdown",
   "id": "9152c4b7-f3bb-4ada-89bc-f39f2eb3cde8",
   "metadata": {},
   "source": [
    "# Q4. What is ‘DataFrame’ in pandas and how is it different from pandas.series? Explain with an example."
   ]
  },
  {
   "cell_type": "markdown",
   "id": "3c82bfb1-8a8b-4890-9efc-7d0e3639a16f",
   "metadata": {},
   "source": [
    "A **DataFrame** in pandas is a two-dimensional, size-mutable, and potentially heterogeneous tabular data structure with labeled axes (rows and columns). Think of it as a table or a spreadsheet where data is arranged in rows and columns.\n",
    "\n",
    "A **Series**, on the other hand, is a one-dimensional array-like object that can hold any data type and is labeled by a single index. A Series is essentially a single column of data.\n",
    "\n",
    "### Key Differences:\n",
    "1. **Dimensionality**:\n",
    "   - **Series**: One-dimensional (like a single column or row of data).\n",
    "   - **DataFrame**: Two-dimensional (like a table with rows and columns).\n",
    "\n",
    "2. **Data Structure**:\n",
    "   - **Series**: Can be seen as a single column of data, indexed by a single index.\n",
    "   - **DataFrame**: A collection of Series, where each Series represents a column.\n",
    "\n",
    "3. **Usage**:\n",
    "   - **Series**: Useful when dealing with a single list of data or when you need a labeled array.\n",
    "   - **DataFrame**: Ideal for working with structured data where multiple columns and rows are involved.\n",
    "\n",
    "### Example:\n",
    "\n",
    "- **Series Example**:\n",
    "   ```python\n",
    "   import pandas as pd\n",
    "   # Creating a Series\n",
    "   age_series = pd.Series([25, 30, 27], index=['Alice', 'Bob', 'Claire'])\n",
    "   print(age_series)\n",
    "   ```\n",
    "\n",
    "   **Output**:\n",
    "   ```\n",
    "   Alice     25\n",
    "   Bob       30\n",
    "   Claire    27\n",
    "   dtype: int64\n",
    "   ```\n",
    "\n",
    "- **DataFrame Example**:\n",
    "   ```python\n",
    "   import pandas as pd\n",
    "   # Creating a DataFrame\n",
    "   data = {\n",
    "       'Name': ['Alice', 'Bob', 'Claire'],\n",
    "       'Age': [25, 30, 27],\n",
    "       'Gender': ['Female', 'Male', 'Female']\n",
    "   }\n",
    "   df = pd.DataFrame(data)\n",
    "   print(df)\n",
    "   ```\n",
    "\n",
    "   **Output**:\n",
    "   ```\n",
    "       Name  Age  Gender\n",
    "   0  Alice   25  Female\n",
    "   1    Bob   30    Male\n",
    "   2  Claire   27  Female\n",
    "   ```\n",
    "\n",
    "In summary, while a **Series** is like a single column of data, a **DataFrame** is a table containing multiple columns, where each column can be a different data type."
   ]
  },
  {
   "cell_type": "markdown",
   "id": "d49fc788-edf2-48ae-b69a-c91cc690bfbe",
   "metadata": {},
   "source": [
    "# Q5. What are some common functions you can use to manipulate data in a Pandas DataFrame? Can you give an example of when you might use one of these functions?"
   ]
  },
  {
   "cell_type": "markdown",
   "id": "b5edd2ae-6d3e-4b71-8431-a6e4e32d7de5",
   "metadata": {},
   "source": [
    "Pandas offers a wide array of functions to manipulate and analyze data in a DataFrame. Here are some common functions:\n",
    "\n",
    "### 1. **`head()` and `tail()`**\n",
    "   - **Purpose**: To view the first or last few rows of a DataFrame.\n",
    "   - **Example**: If you have a large dataset and want to quickly check the first few entries, you can use `df.head(5)` to see the first 5 rows.\n",
    "\n",
    "### 2. **`describe()`**\n",
    "   - **Purpose**: To generate summary statistics for numerical columns.\n",
    "   - **Example**: Use `df.describe()` to get a quick overview of the mean, median, standard deviation, and other stats for each numerical column.\n",
    "\n",
    "### 3. **`drop()`**\n",
    "   - **Purpose**: To remove columns or rows from a DataFrame.\n",
    "   - **Example**: If you want to remove a column called \"Age\", you can use `df.drop('Age', axis=1)`.\n",
    "\n",
    "### 4. **`sort_values()`**\n",
    "   - **Purpose**: To sort the DataFrame by one or more columns.\n",
    "   - **Example**: Use `df.sort_values(by='Age')` to sort the DataFrame by the \"Age\" column in ascending order.\n",
    "\n",
    "### 5. **`loc[]` and `iloc[]`**\n",
    "   - **Purpose**: To access specific rows and columns by labels (`loc[]`) or by position (`iloc[]`).\n",
    "   - **Example**: Use `df.loc[0, 'Name']` to access the value in the first row of the \"Name\" column.\n",
    "\n",
    "### 6. **`groupby()`**\n",
    "   - **Purpose**: To group data based on one or more columns and perform aggregate functions.\n",
    "   - **Example**: If you want to find the average age by gender, you can use `df.groupby('Gender')['Age'].mean()`.\n",
    "\n",
    "### 7. **`merge()`**\n",
    "   - **Purpose**: To combine two DataFrames based on a common column (like SQL joins).\n",
    "   - **Example**: If you have two DataFrames with different data on the same set of individuals, you can merge them with `pd.merge(df1, df2, on='Name')`.\n",
    "\n",
    "### 8. **`apply()`**\n",
    "   - **Purpose**: To apply a function to each element, row, or column.\n",
    "   - **Example**: If you want to increase every value in the \"Age\" column by 1, you could use `df['Age'] = df['Age'].apply(lambda x: x + 1)`.\n",
    "\n",
    "### 9. **`pivot_table()`**\n",
    "   - **Purpose**: To create a pivot table, summarizing data.\n",
    "   - **Example**: If you want to summarize sales data by product and region, you can use a pivot table like `df.pivot_table(index='Product', columns='Region', values='Sales', aggfunc='sum')`.\n",
    "\n",
    "### 10. **`fillna()`**\n",
    "   - **Purpose**: To fill missing values in a DataFrame.\n",
    "   - **Example**: If your DataFrame has missing values that you want to fill with the mean of the column, you can use `df['Column'] = df['Column'].fillna(df['Column'].mean())`.\n",
    "\n",
    "### Example Use Case:\n",
    "**Scenario**: Suppose you have a DataFrame containing sales data with columns \"Product\", \"Region\", and \"Sales\". You want to find out the total sales per product.\n",
    "\n",
    "```python\n",
    "import pandas as pd\n",
    "\n",
    "# Sample DataFrame\n",
    "data = {\n",
    "    'Product': ['A', 'B', 'A', 'B', 'A', 'B'],\n",
    "    'Region': ['North', 'North', 'South', 'South', 'East', 'East'],\n",
    "    'Sales': [100, 200, 150, 250, 130, 300]\n",
    "}\n",
    "\n",
    "df = pd.DataFrame(data)\n",
    "\n",
    "# Grouping by 'Product' to sum sales\n",
    "total_sales_per_product = df.groupby('Product')['Sales'].sum()\n",
    "\n",
    "print(total_sales_per_product)\n",
    "```\n",
    "\n",
    "**Output**:\n",
    "```\n",
    "Product\n",
    "A    380\n",
    "B    750\n",
    "Name: Sales, dtype: int64\n",
    "```\n",
    "\n",
    "Here, `groupby()` helps in summarizing the sales data by product. This is useful for understanding overall product performance across different regions."
   ]
  },
  {
   "cell_type": "markdown",
   "id": "41d7ee2a-fb85-41a3-830c-4c2b2ed60160",
   "metadata": {},
   "source": [
    "# Q6. Which of the following is mutable in nature Series, DataFrame, Panel?"
   ]
  },
  {
   "cell_type": "markdown",
   "id": "1e58d1c4-ae6a-485f-9cd1-f112b2a204b9",
   "metadata": {},
   "source": [
    "Among the three options—**Series**, **DataFrame**, and **Panel**—both **Series** and **DataFrame** are mutable in nature.\n",
    "\n",
    "### Mutable Structures:\n",
    "- **Series**: A Series is mutable, meaning you can change its data or labels after it has been created. For example, you can modify elements, append new elements, or change the index labels.\n",
    "- **DataFrame**: A DataFrame is also mutable. You can add, remove, or modify columns and rows, change the index, and update the data within the DataFrame.\n",
    "\n",
    "### Deprecated Structure:\n",
    "- **Panel**: A Panel was a 3D data structure in pandas, but it has been deprecated since version 0.25.0 (July 2019). Panels were mutable as well, but their functionality has largely been replaced by using multi-indexed DataFrames or the more powerful xarray library for multi-dimensional data.\n",
    "\n",
    "In summary, both **Series** and **DataFrame** are mutable in pandas.\n"
   ]
  },
  {
   "cell_type": "markdown",
   "id": "a6db09ec-4dfd-463b-a70b-654f90970b33",
   "metadata": {},
   "source": [
    "# Q7. Create a DataFrame using multiple Series. Explain with an example."
   ]
  },
  {
   "cell_type": "markdown",
   "id": "c1c09b86-da87-40dd-9c7a-43a1f17934a9",
   "metadata": {},
   "source": [
    "You can create a DataFrame in pandas by combining multiple Series, where each Series becomes a column in the DataFrame. Here's an example to demonstrate this:\n",
    "\n",
    "### Example\n",
    "\n",
    "Let's create three Series for \"Name\", \"Age\", and \"Gender\", and then combine them into a DataFrame.\n",
    "\n",
    "```python\n",
    "import pandas as pd\n",
    "\n",
    "# Creating individual Series\n",
    "name_series = pd.Series(['Alice', 'Bob', 'Claire'])\n",
    "age_series = pd.Series([25, 30, 27])\n",
    "gender_series = pd.Series(['Female', 'Male', 'Female'])\n",
    "\n",
    "# Creating a DataFrame by combining the Series\n",
    "df = pd.DataFrame({\n",
    "    'Name': name_series,\n",
    "    'Age': age_series,\n",
    "    'Gender': gender_series\n",
    "})\n",
    "\n",
    "# Printing the DataFrame\n",
    "print(df)\n",
    "```\n",
    "\n",
    "### Output\n",
    "```\n",
    "     Name  Age  Gender\n",
    "0   Alice   25  Female\n",
    "1     Bob   30    Male\n",
    "2  Claire   27  Female\n",
    "```\n",
    "\n",
    "### Explanation:\n",
    "\n",
    "- **Step 1: Create Series**\n",
    "  - We first create three Series, each representing a column of data. For example, `name_series` contains the names \"Alice\", \"Bob\", and \"Claire\".\n",
    "\n",
    "- **Step 2: Combine Series into a DataFrame**\n",
    "  - We pass these Series to the `pd.DataFrame()` constructor as a dictionary, where the keys represent the column names (\"Name\", \"Age\", \"Gender\") and the values are the Series themselves.\n",
    "\n",
    "- **Step 3: Resulting DataFrame**\n",
    "  - The result is a DataFrame where each column corresponds to one of the Series. The index of the DataFrame is automatically assigned, starting from 0.\n",
    "\n",
    "This method is particularly useful when you have data spread across multiple Series and want to bring it together into a structured table format, which allows for more complex data analysis and manipulation."
   ]
  }
 ],
 "metadata": {
  "kernelspec": {
   "display_name": "Python 3 (ipykernel)",
   "language": "python",
   "name": "python3"
  },
  "language_info": {
   "codemirror_mode": {
    "name": "ipython",
    "version": 3
   },
   "file_extension": ".py",
   "mimetype": "text/x-python",
   "name": "python",
   "nbconvert_exporter": "python",
   "pygments_lexer": "ipython3",
   "version": "3.10.8"
  }
 },
 "nbformat": 4,
 "nbformat_minor": 5
}
